{
  "nbformat": 4,
  "nbformat_minor": 0,
  "metadata": {
    "colab": {
      "name": "Multi-Similarity Loss Tensorflow.ipynb",
      "provenance": [],
      "collapsed_sections": []
    },
    "kernelspec": {
      "name": "python3",
      "display_name": "Python 3"
    },
    "accelerator": "GPU"
  },
  "cells": [
    {
      "cell_type": "code",
      "metadata": {
        "id": "ZJ6P4v3w3uwA",
        "colab_type": "code",
        "outputId": "4e77af41-ada8-4ce6-c790-604b4e106112",
        "colab": {
          "base_uri": "https://localhost:8080/",
          "height": 35
        }
      },
      "source": [
        "try:\n",
        "  # %tensorflow_version only exists in Colab.\n",
        "  %tensorflow_version 2.x\n",
        "except Exception:\n",
        "  pass\n"
      ],
      "execution_count": 0,
      "outputs": [
        {
          "output_type": "stream",
          "text": [
            "TensorFlow 2.x selected.\n"
          ],
          "name": "stdout"
        }
      ]
    },
    {
      "cell_type": "code",
      "metadata": {
        "id": "5HD01hM0gnkI",
        "colab_type": "code",
        "colab": {}
      },
      "source": [
        ""
      ],
      "execution_count": 0,
      "outputs": []
    },
    {
      "cell_type": "code",
      "metadata": {
        "id": "a_TLq2PF4JX2",
        "colab_type": "code",
        "outputId": "14e870a8-8399-4615-a746-708f7f2cd0d3",
        "colab": {
          "base_uri": "https://localhost:8080/",
          "height": 35
        }
      },
      "source": [
        "import tensorflow as tf\n",
        "\n",
        "tf.__version__"
      ],
      "execution_count": 0,
      "outputs": [
        {
          "output_type": "execute_result",
          "data": {
            "text/plain": [
              "'2.1.0'"
            ]
          },
          "metadata": {
            "tags": []
          },
          "execution_count": 2
        }
      ]
    },
    {
      "cell_type": "code",
      "metadata": {
        "id": "oi291XF14LvZ",
        "colab_type": "code",
        "colab": {}
      },
      "source": [
        "def ms_loss(labels, embeddings, alpha=2.0, beta=50.0, lamb=1.0, eps=0.1, ms_mining=False):\n",
        "    '''\n",
        "    ref: http://openaccess.thecvf.com/content_CVPR_2019/papers/Wang_Multi-Similarity_Loss_With_General_Pair_Weighting_for_Deep_Metric_Learning_CVPR_2019_paper.pdf\n",
        "    official codes: https://github.com/MalongTech/research-ms-loss\n",
        "    '''\n",
        "    labels = tf.reshape(labels, [-1, 1])\n",
        "    batch_size = tf.size(labels)\n",
        "    adjacency = tf.equal(labels, tf.transpose(labels))\n",
        "    adjacency_not = tf.logical_not(adjacency)\n",
        "    mask_pos = tf.cast(adjacency, dtype=tf.float32) - tf.eye(batch_size, dtype=tf.float32)\n",
        "    mask_neg = tf.cast(adjacency_not, dtype=tf.float32)\n",
        "\n",
        "    sim_mat = tf.matmul(embeddings, embeddings, transpose_a=False, transpose_b=True)\n",
        "    sim_mat = tf.maximum(sim_mat, 0.0)\n",
        "\n",
        "    pos_mat = tf.multiply(sim_mat, mask_pos)\n",
        "    neg_mat = tf.multiply(sim_mat, mask_neg)\n",
        "\n",
        "    if ms_mining:\n",
        "        max_val = tf.reduce_max(neg_mat, axis=1, keepdims=True)\n",
        "        tmp_max_val = tf.reduce_max(pos_mat, axis=1, keepdims=True)\n",
        "        min_val = tf.reduce_min(tf.multiply(sim_mat - tmp_max_val, mask_pos), axis=1, keepdims=True) + tmp_max_val\n",
        "\n",
        "        max_val = tf.tile(max_val, [1, batch_size])\n",
        "        min_val = tf.tile(min_val, [1, batch_size])\n",
        "\n",
        "        mask_pos = tf.where(pos_mat < max_val + eps, mask_pos, tf.zeros_like(mask_pos))\n",
        "        mask_neg = tf.where(neg_mat > min_val - eps, mask_neg, tf.zeros_like(mask_neg))\n",
        "\n",
        "    pos_exp = tf.exp(-alpha * (pos_mat - lamb))\n",
        "    pos_exp = tf.where(mask_pos > 0.0, pos_exp, tf.zeros_like(pos_exp))\n",
        "\n",
        "    neg_exp = tf.exp(beta * (neg_mat - lamb))\n",
        "    neg_exp = tf.where(mask_neg > 0.0, neg_exp, tf.zeros_like(neg_exp))\n",
        "\n",
        "    pos_term = tf.math.log(1.0 + tf.reduce_sum(pos_exp, axis=1)) / alpha\n",
        "    neg_term = tf.math.log(1.0 + tf.reduce_sum(neg_exp, axis=1)) / beta\n",
        "\n",
        "    loss = tf.reduce_mean(pos_term + neg_term)\n",
        "    return loss"
      ],
      "execution_count": 0,
      "outputs": []
    },
    {
      "cell_type": "code",
      "metadata": {
        "id": "3YPgLMAHm5E5",
        "colab_type": "code",
        "outputId": "4b38e4b5-d07a-4f00-8060-5b116f262eac",
        "colab": {
          "base_uri": "https://localhost:8080/",
          "height": 35
        }
      },
      "source": [
        "ms_loss(labels, embeddings)"
      ],
      "execution_count": 0,
      "outputs": [
        {
          "output_type": "execute_result",
          "data": {
            "text/plain": [
              "<tf.Tensor: shape=(), dtype=float32, numpy=inf>"
            ]
          },
          "metadata": {
            "tags": []
          },
          "execution_count": 112
        }
      ]
    },
    {
      "cell_type": "code",
      "metadata": {
        "id": "HVOcfYMZ9WmG",
        "colab_type": "code",
        "colab": {}
      },
      "source": [
        "class MultiSimilarityLoss(tf.keras.losses.Loss):\n",
        "\n",
        "  def __init__(self, alpha=2.0, beta=50.0, lamb=1.0, eps=0.1, ms_mining=False, name = None):\n",
        "\n",
        "    super().__init__(name=name)\n",
        "    self.alpha = alpha\n",
        "    self.beta = beta\n",
        "    self.lamb = lamb\n",
        "    self.eps = eps\n",
        "    self.ms_mining = ms_mining\n",
        "\n",
        "  def call(self, y_true, y_pred):\n",
        "      return ms_loss(y_true, y_pred, self.alpha, self.beta, self.lamb, self.eps, self.ms_mining)\n",
        " "
      ],
      "execution_count": 0,
      "outputs": []
    },
    {
      "cell_type": "code",
      "metadata": {
        "id": "SqYX-ZAs-byb",
        "colab_type": "code",
        "colab": {}
      },
      "source": [
        "import tensorflow_datasets as tfds"
      ],
      "execution_count": 0,
      "outputs": []
    },
    {
      "cell_type": "code",
      "metadata": {
        "id": "hKE0MpmYDxav",
        "colab_type": "code",
        "colab": {}
      },
      "source": [
        "def _normalize_img(img, label):\n",
        "    img = tf.cast(img, tf.float32) / 255.\n",
        "    return (img, label)\n",
        "\n",
        "train_dataset, test_dataset = tfds.load(name=\"mnist\", split=['train', 'test'], as_supervised=True)\n",
        "\n",
        "# Build your input pipelines\n",
        "train_dataset = train_dataset.shuffle(1024).batch(32)\n",
        "train_dataset = train_dataset.map(_normalize_img)\n",
        "\n",
        "test_dataset = test_dataset.batch(32)\n",
        "test_dataset = test_dataset.map(_normalize_img)"
      ],
      "execution_count": 0,
      "outputs": []
    },
    {
      "cell_type": "code",
      "metadata": {
        "id": "Nt37SjICDy2N",
        "colab_type": "code",
        "colab": {}
      },
      "source": [
        "model = tf.keras.Sequential([\n",
        "    tf.keras.layers.Conv2D(filters=64, kernel_size=2, padding='same', activation='relu', input_shape=(28,28,1)),\n",
        "    tf.keras.layers.MaxPooling2D(pool_size=2),\n",
        "    tf.keras.layers.Dropout(0.3),\n",
        "    tf.keras.layers.Conv2D(filters=32, kernel_size=2, padding='same', activation='relu'),\n",
        "    tf.keras.layers.MaxPooling2D(pool_size=2),\n",
        "    tf.keras.layers.Dropout(0.3),\n",
        "    tf.keras.layers.Flatten(),\n",
        "    tf.keras.layers.Dense(256, activation=None), # No activation on final dense layer\n",
        "    tf.keras.layers.Lambda(lambda x: tf.math.l2_normalize(x, axis=1)) # L2 normalize embeddings\n",
        "\n",
        "])"
      ],
      "execution_count": 0,
      "outputs": []
    },
    {
      "cell_type": "code",
      "metadata": {
        "id": "XWlcnCLOD2QW",
        "colab_type": "code",
        "colab": {}
      },
      "source": [
        "ms_loss_loss = MultiSimilarityLoss()\n",
        "# Compile the model\n",
        "model.compile(\n",
        "    optimizer=tf.keras.optimizers.Adam(0.001),\n",
        "    loss=ms_loss_loss)"
      ],
      "execution_count": 0,
      "outputs": []
    },
    {
      "cell_type": "code",
      "metadata": {
        "id": "43WSW7FPD6VU",
        "colab_type": "code",
        "outputId": "77acc481-e5ea-4b8d-94d6-4552be588356",
        "colab": {
          "base_uri": "https://localhost:8080/",
          "height": 190
        }
      },
      "source": [
        "# Train the network\n",
        "history = model.fit(\n",
        "    train_dataset,\n",
        "    epochs=5)"
      ],
      "execution_count": 0,
      "outputs": [
        {
          "output_type": "stream",
          "text": [
            "Epoch 1/5\n",
            "1875/1875 [==============================] - 22s 12ms/step - loss: 0.6884\n",
            "Epoch 2/5\n",
            "1875/1875 [==============================] - 17s 9ms/step - loss: 0.6788\n",
            "Epoch 3/5\n",
            "1875/1875 [==============================] - 17s 9ms/step - loss: 0.6769\n",
            "Epoch 4/5\n",
            "1875/1875 [==============================] - 18s 9ms/step - loss: 0.6762\n",
            "Epoch 5/5\n",
            "1875/1875 [==============================] - 17s 9ms/step - loss: 0.6761\n"
          ],
          "name": "stdout"
        }
      ]
    },
    {
      "cell_type": "code",
      "metadata": {
        "id": "NSE_6yOmmxLq",
        "colab_type": "code",
        "colab": {}
      },
      "source": [
        ""
      ],
      "execution_count": 0,
      "outputs": []
    }
  ]
}